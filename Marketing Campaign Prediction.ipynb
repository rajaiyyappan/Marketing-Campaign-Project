{
 "cells": [
  {
   "cell_type": "markdown",
   "metadata": {},
   "source": [
    "**Marketing Campaign Dataset**"
   ]
  },
  {
   "cell_type": "code",
   "execution_count": 558,
   "metadata": {
    "collapsed": true
   },
   "outputs": [],
   "source": [
    "#Load libraries\n",
    "import pandas as pd\n",
    "import numpy as np\n",
    "import matplotlib.pyplot as plt\n",
    "import seaborn as sns\n",
    "%matplotlib inline\n",
    "from sklearn.ensemble import AdaBoostClassifier\n",
    "from sklearn.metrics import classification_report,confusion_matrix\n",
    "from sklearn.model_selection import KFold \n",
    "from sklearn.model_selection import RepeatedKFold"
   ]
  },
  {
   "cell_type": "code",
   "execution_count": 559,
   "metadata": {
    "collapsed": true
   },
   "outputs": [],
   "source": [
    "#Load data\n",
    "marketing_train = pd.read_csv(\"marketing_tr.csv\")"
   ]
  },
  {
   "cell_type": "markdown",
   "metadata": {},
   "source": [
    "**Checking the shape **"
   ]
  },
  {
   "cell_type": "code",
   "execution_count": 560,
   "metadata": {},
   "outputs": [
    {
     "data": {
      "text/plain": [
       "(7414, 21)"
      ]
     },
     "execution_count": 560,
     "metadata": {},
     "output_type": "execute_result"
    }
   ],
   "source": [
    "marketing_train.shape"
   ]
  },
  {
   "cell_type": "markdown",
   "metadata": {},
   "source": [
    "**Checking the Head**"
   ]
  },
  {
   "cell_type": "code",
   "execution_count": 561,
   "metadata": {},
   "outputs": [
    {
     "data": {
      "text/html": [
       "<div>\n",
       "<style>\n",
       "    .dataframe thead tr:only-child th {\n",
       "        text-align: right;\n",
       "    }\n",
       "\n",
       "    .dataframe thead th {\n",
       "        text-align: left;\n",
       "    }\n",
       "\n",
       "    .dataframe tbody tr th {\n",
       "        vertical-align: top;\n",
       "    }\n",
       "</style>\n",
       "<table border=\"1\" class=\"dataframe\">\n",
       "  <thead>\n",
       "    <tr style=\"text-align: right;\">\n",
       "      <th></th>\n",
       "      <th>custAge</th>\n",
       "      <th>profession</th>\n",
       "      <th>marital</th>\n",
       "      <th>schooling</th>\n",
       "      <th>housing</th>\n",
       "      <th>loan</th>\n",
       "      <th>contact</th>\n",
       "      <th>month</th>\n",
       "      <th>day_of_week</th>\n",
       "      <th>campaign</th>\n",
       "      <th>...</th>\n",
       "      <th>previous</th>\n",
       "      <th>poutcome</th>\n",
       "      <th>emp.var.rate</th>\n",
       "      <th>cons.price.idx</th>\n",
       "      <th>cons.conf.idx</th>\n",
       "      <th>euribor3m</th>\n",
       "      <th>nr.employed</th>\n",
       "      <th>pmonths</th>\n",
       "      <th>pastEmail</th>\n",
       "      <th>responded</th>\n",
       "    </tr>\n",
       "  </thead>\n",
       "  <tbody>\n",
       "    <tr>\n",
       "      <th>0</th>\n",
       "      <td>55.0</td>\n",
       "      <td>admin.</td>\n",
       "      <td>single</td>\n",
       "      <td>university.degree</td>\n",
       "      <td>no</td>\n",
       "      <td>no</td>\n",
       "      <td>cellular</td>\n",
       "      <td>nov</td>\n",
       "      <td>mon</td>\n",
       "      <td>1</td>\n",
       "      <td>...</td>\n",
       "      <td>0</td>\n",
       "      <td>nonexistent</td>\n",
       "      <td>-0.1</td>\n",
       "      <td>93.200</td>\n",
       "      <td>-42.0</td>\n",
       "      <td>4.191</td>\n",
       "      <td>5195.8</td>\n",
       "      <td>999.0</td>\n",
       "      <td>0</td>\n",
       "      <td>no</td>\n",
       "    </tr>\n",
       "    <tr>\n",
       "      <th>1</th>\n",
       "      <td>NaN</td>\n",
       "      <td>blue-collar</td>\n",
       "      <td>married</td>\n",
       "      <td>NaN</td>\n",
       "      <td>no</td>\n",
       "      <td>no</td>\n",
       "      <td>cellular</td>\n",
       "      <td>jul</td>\n",
       "      <td>mon</td>\n",
       "      <td>1</td>\n",
       "      <td>...</td>\n",
       "      <td>0</td>\n",
       "      <td>nonexistent</td>\n",
       "      <td>1.4</td>\n",
       "      <td>93.918</td>\n",
       "      <td>-42.7</td>\n",
       "      <td>4.960</td>\n",
       "      <td>5228.1</td>\n",
       "      <td>999.0</td>\n",
       "      <td>0</td>\n",
       "      <td>no</td>\n",
       "    </tr>\n",
       "    <tr>\n",
       "      <th>2</th>\n",
       "      <td>42.0</td>\n",
       "      <td>technician</td>\n",
       "      <td>married</td>\n",
       "      <td>high.school</td>\n",
       "      <td>no</td>\n",
       "      <td>no</td>\n",
       "      <td>telephone</td>\n",
       "      <td>may</td>\n",
       "      <td>mon</td>\n",
       "      <td>1</td>\n",
       "      <td>...</td>\n",
       "      <td>0</td>\n",
       "      <td>nonexistent</td>\n",
       "      <td>1.1</td>\n",
       "      <td>93.994</td>\n",
       "      <td>-36.4</td>\n",
       "      <td>4.857</td>\n",
       "      <td>5191.0</td>\n",
       "      <td>999.0</td>\n",
       "      <td>0</td>\n",
       "      <td>no</td>\n",
       "    </tr>\n",
       "    <tr>\n",
       "      <th>3</th>\n",
       "      <td>55.0</td>\n",
       "      <td>management</td>\n",
       "      <td>divorced</td>\n",
       "      <td>NaN</td>\n",
       "      <td>yes</td>\n",
       "      <td>yes</td>\n",
       "      <td>cellular</td>\n",
       "      <td>jul</td>\n",
       "      <td>wed</td>\n",
       "      <td>2</td>\n",
       "      <td>...</td>\n",
       "      <td>0</td>\n",
       "      <td>nonexistent</td>\n",
       "      <td>1.4</td>\n",
       "      <td>93.918</td>\n",
       "      <td>-42.7</td>\n",
       "      <td>4.962</td>\n",
       "      <td>5228.1</td>\n",
       "      <td>999.0</td>\n",
       "      <td>0</td>\n",
       "      <td>no</td>\n",
       "    </tr>\n",
       "    <tr>\n",
       "      <th>4</th>\n",
       "      <td>NaN</td>\n",
       "      <td>admin.</td>\n",
       "      <td>divorced</td>\n",
       "      <td>university.degree</td>\n",
       "      <td>yes</td>\n",
       "      <td>no</td>\n",
       "      <td>cellular</td>\n",
       "      <td>may</td>\n",
       "      <td>tue</td>\n",
       "      <td>5</td>\n",
       "      <td>...</td>\n",
       "      <td>1</td>\n",
       "      <td>failure</td>\n",
       "      <td>-1.8</td>\n",
       "      <td>92.893</td>\n",
       "      <td>-46.2</td>\n",
       "      <td>1.291</td>\n",
       "      <td>5099.1</td>\n",
       "      <td>999.0</td>\n",
       "      <td>1</td>\n",
       "      <td>no</td>\n",
       "    </tr>\n",
       "  </tbody>\n",
       "</table>\n",
       "<p>5 rows × 21 columns</p>\n",
       "</div>"
      ],
      "text/plain": [
       "   custAge   profession   marital          schooling housing loan    contact  \\\n",
       "0     55.0       admin.    single  university.degree      no   no   cellular   \n",
       "1      NaN  blue-collar   married                NaN      no   no   cellular   \n",
       "2     42.0   technician   married        high.school      no   no  telephone   \n",
       "3     55.0   management  divorced                NaN     yes  yes   cellular   \n",
       "4      NaN       admin.  divorced  university.degree     yes   no   cellular   \n",
       "\n",
       "  month day_of_week  campaign    ...      previous     poutcome emp.var.rate  \\\n",
       "0   nov         mon         1    ...             0  nonexistent         -0.1   \n",
       "1   jul         mon         1    ...             0  nonexistent          1.4   \n",
       "2   may         mon         1    ...             0  nonexistent          1.1   \n",
       "3   jul         wed         2    ...             0  nonexistent          1.4   \n",
       "4   may         tue         5    ...             1      failure         -1.8   \n",
       "\n",
       "   cons.price.idx  cons.conf.idx  euribor3m  nr.employed  pmonths  pastEmail  \\\n",
       "0          93.200          -42.0      4.191       5195.8    999.0          0   \n",
       "1          93.918          -42.7      4.960       5228.1    999.0          0   \n",
       "2          93.994          -36.4      4.857       5191.0    999.0          0   \n",
       "3          93.918          -42.7      4.962       5228.1    999.0          0   \n",
       "4          92.893          -46.2      1.291       5099.1    999.0          1   \n",
       "\n",
       "   responded  \n",
       "0         no  \n",
       "1         no  \n",
       "2         no  \n",
       "3         no  \n",
       "4         no  \n",
       "\n",
       "[5 rows x 21 columns]"
      ]
     },
     "execution_count": 561,
     "metadata": {},
     "output_type": "execute_result"
    }
   ],
   "source": [
    "marketing_train.head(5)"
   ]
  },
  {
   "cell_type": "markdown",
   "metadata": {},
   "source": [
    "**Exploratory Data Analysis**"
   ]
  },
  {
   "cell_type": "code",
   "execution_count": 562,
   "metadata": {
    "collapsed": true
   },
   "outputs": [],
   "source": [
    "marketing_train['schooling'] = marketing_train['schooling'].replace(\"illiterate\", \"unknown\")\n",
    "marketing_train['schooling'] = marketing_train['schooling'].replace([\"basic.4y\",\"basic.6y\",\"basic.9y\",\"high.school\",\"professional.course\"], \"high.school\")"
   ]
  },
  {
   "cell_type": "code",
   "execution_count": 563,
   "metadata": {
    "collapsed": true
   },
   "outputs": [],
   "source": [
    "marketing_train['month'] = marketing_train['month'].replace([\"oct\",\"nov\",\"dec\"], \"dec\")\n",
    "marketing_train['month'] = marketing_train['month'].replace([\"aug\",\"jul\",\"sep\"], \"sep\")\n",
    "marketing_train['month'] = marketing_train['month'].replace([\"apr\",\"jun\",\"may\",\"mar\"], \"jun\")"
   ]
  },
  {
   "cell_type": "markdown",
   "metadata": {},
   "source": [
    "**Replacing Yes & No with 1's & 0's **"
   ]
  },
  {
   "cell_type": "code",
   "execution_count": 564,
   "metadata": {
    "collapsed": true
   },
   "outputs": [],
   "source": [
    "marketing_train['marital'] = marketing_train['marital'].replace(\"unknown\", \"married\")\n",
    "marketing_train['loan'] = marketing_train['loan'].replace(\"unknown\", \"no\")\n",
    "marketing_train['housing'] = marketing_train['housing'].replace(\"unknown\", \"no\")\n",
    "marketing_train['housing'] = marketing_train['housing'].replace(\"yes\",1)\n",
    "marketing_train['housing'] = marketing_train['housing'].replace(\"no\", 0)\n",
    "marketing_train['loan'] = marketing_train['loan'].replace(\"yes\", 1)\n",
    "marketing_train['loan'] = marketing_train['loan'].replace(\"no\", 0)"
   ]
  },
  {
   "cell_type": "code",
   "execution_count": 565,
   "metadata": {
    "collapsed": true
   },
   "outputs": [],
   "source": [
    "marketing_train['profession'] = marketing_train['profession'].replace([\"management\",\"unknown\",\"unemployed\",\"admin.\"], \"admin.\")\n",
    "marketing_train['profession'] = marketing_train['profession'].replace([\"blue-collar\",\"housemaid\",\"services\",\"self-employed\",\"entrepreneur\",\"technician\"], \"blue-collar\")"
   ]
  },
  {
   "cell_type": "markdown",
   "metadata": {},
   "source": [
    "**Missing Value Analysis**"
   ]
  },
  {
   "cell_type": "code",
   "execution_count": 567,
   "metadata": {
    "collapsed": true
   },
   "outputs": [],
   "source": [
    "#Create dataframe with missing percentage\n",
    "missing_val = pd.DataFrame(marketing_train.isnull().sum())\n",
    "\n",
    "#Reset index\n",
    "missing_val = missing_val.reset_index()\n",
    "\n",
    "#Rename variable\n",
    "missing_val = missing_val.rename(columns = {'index': 'Variables', 0: 'Missing_percentage'})\n",
    "\n",
    "#Calculate percentage\n",
    "missing_val['Missing_percentage'] = (missing_val['Missing_percentage']/len(marketing_train))*100\n",
    "\n",
    "#descending order\n",
    "missing_val = missing_val.sort_values('Missing_percentage', ascending = False).reset_index(drop = True)"
   ]
  },
  {
   "cell_type": "code",
   "execution_count": 568,
   "metadata": {},
   "outputs": [
    {
     "data": {
      "text/html": [
       "<div>\n",
       "<style>\n",
       "    .dataframe thead tr:only-child th {\n",
       "        text-align: right;\n",
       "    }\n",
       "\n",
       "    .dataframe thead th {\n",
       "        text-align: left;\n",
       "    }\n",
       "\n",
       "    .dataframe tbody tr th {\n",
       "        vertical-align: top;\n",
       "    }\n",
       "</style>\n",
       "<table border=\"1\" class=\"dataframe\">\n",
       "  <thead>\n",
       "    <tr style=\"text-align: right;\">\n",
       "      <th></th>\n",
       "      <th>Variables</th>\n",
       "      <th>Missing_percentage</th>\n",
       "    </tr>\n",
       "  </thead>\n",
       "  <tbody>\n",
       "    <tr>\n",
       "      <th>0</th>\n",
       "      <td>schooling</td>\n",
       "      <td>29.066631</td>\n",
       "    </tr>\n",
       "    <tr>\n",
       "      <th>1</th>\n",
       "      <td>custAge</td>\n",
       "      <td>24.332344</td>\n",
       "    </tr>\n",
       "    <tr>\n",
       "      <th>2</th>\n",
       "      <td>day_of_week</td>\n",
       "      <td>9.589965</td>\n",
       "    </tr>\n",
       "    <tr>\n",
       "      <th>3</th>\n",
       "      <td>poutcome</td>\n",
       "      <td>0.000000</td>\n",
       "    </tr>\n",
       "    <tr>\n",
       "      <th>4</th>\n",
       "      <td>pastEmail</td>\n",
       "      <td>0.000000</td>\n",
       "    </tr>\n",
       "  </tbody>\n",
       "</table>\n",
       "</div>"
      ],
      "text/plain": [
       "     Variables  Missing_percentage\n",
       "0    schooling           29.066631\n",
       "1      custAge           24.332344\n",
       "2  day_of_week            9.589965\n",
       "3     poutcome            0.000000\n",
       "4    pastEmail            0.000000"
      ]
     },
     "execution_count": 568,
     "metadata": {},
     "output_type": "execute_result"
    }
   ],
   "source": [
    "missing_val.head()"
   ]
  },
  {
   "cell_type": "code",
   "execution_count": 569,
   "metadata": {},
   "outputs": [
    {
     "data": {
      "text/plain": [
       "high.school          3473\n",
       "university.degree    1554\n",
       "unknown               232\n",
       "Name: schooling, dtype: int64"
      ]
     },
     "execution_count": 569,
     "metadata": {},
     "output_type": "execute_result"
    }
   ],
   "source": [
    "marketing_train['schooling'].value_counts()"
   ]
  },
  {
   "cell_type": "markdown",
   "metadata": {},
   "source": [
    "**Imputing Missing Values**"
   ]
  },
  {
   "cell_type": "code",
   "execution_count": 570,
   "metadata": {
    "collapsed": true
   },
   "outputs": [],
   "source": [
    "#imputation method\n",
    "#Actual value = 29\n",
    "#Mean = 40.01\n",
    "#Median = 38"
   ]
  },
  {
   "cell_type": "code",
   "execution_count": 571,
   "metadata": {},
   "outputs": [
    {
     "data": {
      "text/plain": [
       "29.0"
      ]
     },
     "execution_count": 571,
     "metadata": {},
     "output_type": "execute_result"
    }
   ],
   "source": [
    "#Checking value\n",
    "marketing_train['custAge'].loc[70]"
   ]
  },
  {
   "cell_type": "code",
   "execution_count": 572,
   "metadata": {},
   "outputs": [
    {
     "name": "stderr",
     "output_type": "stream",
     "text": [
      "C:\\Users\\ssn\\Anaconda3\\lib\\site-packages\\pandas\\core\\indexing.py:179: SettingWithCopyWarning: \n",
      "A value is trying to be set on a copy of a slice from a DataFrame\n",
      "\n",
      "See the caveats in the documentation: http://pandas.pydata.org/pandas-docs/stable/indexing.html#indexing-view-versus-copy\n",
      "  self._setitem_with_indexer(indexer, value)\n"
     ]
    }
   ],
   "source": [
    "#create missing value\n",
    "marketing_train['custAge'].loc[70] = np.nan"
   ]
  },
  {
   "cell_type": "code",
   "execution_count": 573,
   "metadata": {},
   "outputs": [
    {
     "data": {
      "text/plain": [
       "nan"
      ]
     },
     "execution_count": 573,
     "metadata": {},
     "output_type": "execute_result"
    }
   ],
   "source": [
    "marketing_train['custAge'].loc[70]"
   ]
  },
  {
   "cell_type": "code",
   "execution_count": 574,
   "metadata": {
    "collapsed": true
   },
   "outputs": [],
   "source": [
    "#Impute with median - CustAge.\n",
    "marketing_train['custAge'] = marketing_train['custAge'].fillna(marketing_train['custAge'].median())"
   ]
  },
  {
   "cell_type": "code",
   "execution_count": 575,
   "metadata": {},
   "outputs": [
    {
     "data": {
      "text/plain": [
       "38.0"
      ]
     },
     "execution_count": 575,
     "metadata": {},
     "output_type": "execute_result"
    }
   ],
   "source": [
    "marketing_train['custAge'].loc[70]"
   ]
  },
  {
   "cell_type": "markdown",
   "metadata": {},
   "source": [
    "**#Imputing Schooling**"
   ]
  },
  {
   "cell_type": "code",
   "execution_count": 576,
   "metadata": {
    "collapsed": true
   },
   "outputs": [],
   "source": [
    "marketing_train['schooling'] = marketing_train.groupby(\"profession\")['schooling'].transform(lambda x: x.fillna(x.mode()[0]))"
   ]
  },
  {
   "cell_type": "markdown",
   "metadata": {},
   "source": [
    "** #Imputing \"day_of_week\" **"
   ]
  },
  {
   "cell_type": "code",
   "execution_count": 577,
   "metadata": {
    "collapsed": true
   },
   "outputs": [],
   "source": [
    "marketing_train['day_of_week'] = marketing_train.groupby([\"profession\",'month'])['day_of_week'].transform(lambda x: x.fillna(x.mode()[0]))"
   ]
  },
  {
   "cell_type": "code",
   "execution_count": 578,
   "metadata": {
    "collapsed": true
   },
   "outputs": [],
   "source": [
    "missing_val = pd.DataFrame(marketing_train.isnull().sum())"
   ]
  },
  {
   "cell_type": "code",
   "execution_count": 579,
   "metadata": {},
   "outputs": [
    {
     "data": {
      "text/html": [
       "<div>\n",
       "<style>\n",
       "    .dataframe thead tr:only-child th {\n",
       "        text-align: right;\n",
       "    }\n",
       "\n",
       "    .dataframe thead th {\n",
       "        text-align: left;\n",
       "    }\n",
       "\n",
       "    .dataframe tbody tr th {\n",
       "        vertical-align: top;\n",
       "    }\n",
       "</style>\n",
       "<table border=\"1\" class=\"dataframe\">\n",
       "  <thead>\n",
       "    <tr style=\"text-align: right;\">\n",
       "      <th></th>\n",
       "      <th>0</th>\n",
       "    </tr>\n",
       "  </thead>\n",
       "  <tbody>\n",
       "    <tr>\n",
       "      <th>custAge</th>\n",
       "      <td>0</td>\n",
       "    </tr>\n",
       "    <tr>\n",
       "      <th>profession</th>\n",
       "      <td>0</td>\n",
       "    </tr>\n",
       "    <tr>\n",
       "      <th>marital</th>\n",
       "      <td>0</td>\n",
       "    </tr>\n",
       "    <tr>\n",
       "      <th>schooling</th>\n",
       "      <td>0</td>\n",
       "    </tr>\n",
       "    <tr>\n",
       "      <th>housing</th>\n",
       "      <td>0</td>\n",
       "    </tr>\n",
       "    <tr>\n",
       "      <th>loan</th>\n",
       "      <td>0</td>\n",
       "    </tr>\n",
       "    <tr>\n",
       "      <th>contact</th>\n",
       "      <td>0</td>\n",
       "    </tr>\n",
       "    <tr>\n",
       "      <th>month</th>\n",
       "      <td>0</td>\n",
       "    </tr>\n",
       "    <tr>\n",
       "      <th>day_of_week</th>\n",
       "      <td>0</td>\n",
       "    </tr>\n",
       "    <tr>\n",
       "      <th>campaign</th>\n",
       "      <td>0</td>\n",
       "    </tr>\n",
       "    <tr>\n",
       "      <th>pdays</th>\n",
       "      <td>0</td>\n",
       "    </tr>\n",
       "    <tr>\n",
       "      <th>previous</th>\n",
       "      <td>0</td>\n",
       "    </tr>\n",
       "    <tr>\n",
       "      <th>poutcome</th>\n",
       "      <td>0</td>\n",
       "    </tr>\n",
       "    <tr>\n",
       "      <th>emp.var.rate</th>\n",
       "      <td>0</td>\n",
       "    </tr>\n",
       "    <tr>\n",
       "      <th>cons.price.idx</th>\n",
       "      <td>0</td>\n",
       "    </tr>\n",
       "    <tr>\n",
       "      <th>cons.conf.idx</th>\n",
       "      <td>0</td>\n",
       "    </tr>\n",
       "    <tr>\n",
       "      <th>euribor3m</th>\n",
       "      <td>0</td>\n",
       "    </tr>\n",
       "    <tr>\n",
       "      <th>nr.employed</th>\n",
       "      <td>0</td>\n",
       "    </tr>\n",
       "    <tr>\n",
       "      <th>pmonths</th>\n",
       "      <td>0</td>\n",
       "    </tr>\n",
       "    <tr>\n",
       "      <th>pastEmail</th>\n",
       "      <td>0</td>\n",
       "    </tr>\n",
       "    <tr>\n",
       "      <th>responded</th>\n",
       "      <td>0</td>\n",
       "    </tr>\n",
       "  </tbody>\n",
       "</table>\n",
       "</div>"
      ],
      "text/plain": [
       "                0\n",
       "custAge         0\n",
       "profession      0\n",
       "marital         0\n",
       "schooling       0\n",
       "housing         0\n",
       "loan            0\n",
       "contact         0\n",
       "month           0\n",
       "day_of_week     0\n",
       "campaign        0\n",
       "pdays           0\n",
       "previous        0\n",
       "poutcome        0\n",
       "emp.var.rate    0\n",
       "cons.price.idx  0\n",
       "cons.conf.idx   0\n",
       "euribor3m       0\n",
       "nr.employed     0\n",
       "pmonths         0\n",
       "pastEmail       0\n",
       "responded       0"
      ]
     },
     "execution_count": 579,
     "metadata": {},
     "output_type": "execute_result"
    }
   ],
   "source": [
    "missing_val"
   ]
  },
  {
   "cell_type": "code",
   "execution_count": 580,
   "metadata": {},
   "outputs": [],
   "source": [
    "#Converting Categorical to Numerical\n",
    "marketing_train=pd.get_dummies(marketing_train,columns=['profession',\n",
    "            'marital','schooling','contact','month','day_of_week','poutcome'])"
   ]
  },
  {
   "cell_type": "code",
   "execution_count": 581,
   "metadata": {},
   "outputs": [
    {
     "data": {
      "text/plain": [
       "(7414, 37)"
      ]
     },
     "execution_count": 581,
     "metadata": {},
     "output_type": "execute_result"
    }
   ],
   "source": [
    "marketing_train.shape"
   ]
  },
  {
   "cell_type": "code",
   "execution_count": 582,
   "metadata": {},
   "outputs": [
    {
     "data": {
      "text/html": [
       "<div>\n",
       "<style>\n",
       "    .dataframe thead tr:only-child th {\n",
       "        text-align: right;\n",
       "    }\n",
       "\n",
       "    .dataframe thead th {\n",
       "        text-align: left;\n",
       "    }\n",
       "\n",
       "    .dataframe tbody tr th {\n",
       "        vertical-align: top;\n",
       "    }\n",
       "</style>\n",
       "<table border=\"1\" class=\"dataframe\">\n",
       "  <thead>\n",
       "    <tr style=\"text-align: right;\">\n",
       "      <th></th>\n",
       "      <th>custAge</th>\n",
       "      <th>housing</th>\n",
       "      <th>loan</th>\n",
       "      <th>campaign</th>\n",
       "      <th>pdays</th>\n",
       "      <th>previous</th>\n",
       "      <th>emp.var.rate</th>\n",
       "      <th>cons.price.idx</th>\n",
       "      <th>cons.conf.idx</th>\n",
       "      <th>euribor3m</th>\n",
       "      <th>...</th>\n",
       "      <th>month_jun</th>\n",
       "      <th>month_sep</th>\n",
       "      <th>day_of_week_fri</th>\n",
       "      <th>day_of_week_mon</th>\n",
       "      <th>day_of_week_thu</th>\n",
       "      <th>day_of_week_tue</th>\n",
       "      <th>day_of_week_wed</th>\n",
       "      <th>poutcome_failure</th>\n",
       "      <th>poutcome_nonexistent</th>\n",
       "      <th>poutcome_success</th>\n",
       "    </tr>\n",
       "  </thead>\n",
       "  <tbody>\n",
       "    <tr>\n",
       "      <th>0</th>\n",
       "      <td>55.0</td>\n",
       "      <td>0</td>\n",
       "      <td>0</td>\n",
       "      <td>1</td>\n",
       "      <td>999</td>\n",
       "      <td>0</td>\n",
       "      <td>-0.1</td>\n",
       "      <td>93.200</td>\n",
       "      <td>-42.0</td>\n",
       "      <td>4.191</td>\n",
       "      <td>...</td>\n",
       "      <td>0</td>\n",
       "      <td>0</td>\n",
       "      <td>0</td>\n",
       "      <td>1</td>\n",
       "      <td>0</td>\n",
       "      <td>0</td>\n",
       "      <td>0</td>\n",
       "      <td>0</td>\n",
       "      <td>1</td>\n",
       "      <td>0</td>\n",
       "    </tr>\n",
       "    <tr>\n",
       "      <th>1</th>\n",
       "      <td>38.0</td>\n",
       "      <td>0</td>\n",
       "      <td>0</td>\n",
       "      <td>1</td>\n",
       "      <td>999</td>\n",
       "      <td>0</td>\n",
       "      <td>1.4</td>\n",
       "      <td>93.918</td>\n",
       "      <td>-42.7</td>\n",
       "      <td>4.960</td>\n",
       "      <td>...</td>\n",
       "      <td>0</td>\n",
       "      <td>1</td>\n",
       "      <td>0</td>\n",
       "      <td>1</td>\n",
       "      <td>0</td>\n",
       "      <td>0</td>\n",
       "      <td>0</td>\n",
       "      <td>0</td>\n",
       "      <td>1</td>\n",
       "      <td>0</td>\n",
       "    </tr>\n",
       "    <tr>\n",
       "      <th>2</th>\n",
       "      <td>42.0</td>\n",
       "      <td>0</td>\n",
       "      <td>0</td>\n",
       "      <td>1</td>\n",
       "      <td>999</td>\n",
       "      <td>0</td>\n",
       "      <td>1.1</td>\n",
       "      <td>93.994</td>\n",
       "      <td>-36.4</td>\n",
       "      <td>4.857</td>\n",
       "      <td>...</td>\n",
       "      <td>1</td>\n",
       "      <td>0</td>\n",
       "      <td>0</td>\n",
       "      <td>1</td>\n",
       "      <td>0</td>\n",
       "      <td>0</td>\n",
       "      <td>0</td>\n",
       "      <td>0</td>\n",
       "      <td>1</td>\n",
       "      <td>0</td>\n",
       "    </tr>\n",
       "    <tr>\n",
       "      <th>3</th>\n",
       "      <td>55.0</td>\n",
       "      <td>1</td>\n",
       "      <td>1</td>\n",
       "      <td>2</td>\n",
       "      <td>999</td>\n",
       "      <td>0</td>\n",
       "      <td>1.4</td>\n",
       "      <td>93.918</td>\n",
       "      <td>-42.7</td>\n",
       "      <td>4.962</td>\n",
       "      <td>...</td>\n",
       "      <td>0</td>\n",
       "      <td>1</td>\n",
       "      <td>0</td>\n",
       "      <td>0</td>\n",
       "      <td>0</td>\n",
       "      <td>0</td>\n",
       "      <td>1</td>\n",
       "      <td>0</td>\n",
       "      <td>1</td>\n",
       "      <td>0</td>\n",
       "    </tr>\n",
       "    <tr>\n",
       "      <th>4</th>\n",
       "      <td>38.0</td>\n",
       "      <td>1</td>\n",
       "      <td>0</td>\n",
       "      <td>5</td>\n",
       "      <td>999</td>\n",
       "      <td>1</td>\n",
       "      <td>-1.8</td>\n",
       "      <td>92.893</td>\n",
       "      <td>-46.2</td>\n",
       "      <td>1.291</td>\n",
       "      <td>...</td>\n",
       "      <td>1</td>\n",
       "      <td>0</td>\n",
       "      <td>0</td>\n",
       "      <td>0</td>\n",
       "      <td>0</td>\n",
       "      <td>1</td>\n",
       "      <td>0</td>\n",
       "      <td>1</td>\n",
       "      <td>0</td>\n",
       "      <td>0</td>\n",
       "    </tr>\n",
       "  </tbody>\n",
       "</table>\n",
       "<p>5 rows × 37 columns</p>\n",
       "</div>"
      ],
      "text/plain": [
       "   custAge  housing  loan  campaign  pdays  previous  emp.var.rate  \\\n",
       "0     55.0        0     0         1    999         0          -0.1   \n",
       "1     38.0        0     0         1    999         0           1.4   \n",
       "2     42.0        0     0         1    999         0           1.1   \n",
       "3     55.0        1     1         2    999         0           1.4   \n",
       "4     38.0        1     0         5    999         1          -1.8   \n",
       "\n",
       "   cons.price.idx  cons.conf.idx  euribor3m        ...         month_jun  \\\n",
       "0          93.200          -42.0      4.191        ...                 0   \n",
       "1          93.918          -42.7      4.960        ...                 0   \n",
       "2          93.994          -36.4      4.857        ...                 1   \n",
       "3          93.918          -42.7      4.962        ...                 0   \n",
       "4          92.893          -46.2      1.291        ...                 1   \n",
       "\n",
       "   month_sep  day_of_week_fri day_of_week_mon  day_of_week_thu  \\\n",
       "0          0                0               1                0   \n",
       "1          1                0               1                0   \n",
       "2          0                0               1                0   \n",
       "3          1                0               0                0   \n",
       "4          0                0               0                0   \n",
       "\n",
       "   day_of_week_tue  day_of_week_wed  poutcome_failure  poutcome_nonexistent  \\\n",
       "0                0                0                 0                     1   \n",
       "1                0                0                 0                     1   \n",
       "2                0                0                 0                     1   \n",
       "3                0                1                 0                     1   \n",
       "4                1                0                 1                     0   \n",
       "\n",
       "   poutcome_success  \n",
       "0                 0  \n",
       "1                 0  \n",
       "2                 0  \n",
       "3                 0  \n",
       "4                 0  \n",
       "\n",
       "[5 rows x 37 columns]"
      ]
     },
     "execution_count": 582,
     "metadata": {},
     "output_type": "execute_result"
    }
   ],
   "source": [
    "marketing_train.head()"
   ]
  },
  {
   "cell_type": "code",
   "execution_count": 583,
   "metadata": {},
   "outputs": [
    {
     "name": "stdout",
     "output_type": "stream",
     "text": [
      "custAge VIF:  1.41\n",
      "housing VIF:  1.02\n",
      "loan VIF:  1.01\n",
      "campaign VIF:  1.05\n",
      "pdays VIF:  88765.85\n",
      "previous VIF:  7.54\n",
      "emp.var.rate VIF:  61.77\n",
      "cons.price.idx VIF:  9.61\n",
      "cons.conf.idx VIF:  3.83\n",
      "euribor3m VIF:  129.37\n",
      "nr.employed VIF:  42.81\n",
      "pmonths VIF:  88068.52\n",
      "pastEmail VIF:  2.8\n",
      "profession_admin. VIF:  inf\n"
     ]
    },
    {
     "name": "stderr",
     "output_type": "stream",
     "text": [
      "C:\\Users\\ssn\\Anaconda3\\lib\\site-packages\\ipykernel_launcher.py:9: RuntimeWarning: divide by zero encountered in double_scalars\n",
      "  if __name__ == '__main__':\n"
     ]
    },
    {
     "name": "stdout",
     "output_type": "stream",
     "text": [
      "profession_blue-collar VIF:  inf\n",
      "profession_retired VIF:  inf\n",
      "profession_student VIF:  inf\n",
      "marital_divorced VIF:  inf\n",
      "marital_married VIF:  inf\n",
      "marital_single VIF:  inf\n",
      "schooling_high.school VIF:  inf\n",
      "schooling_university.degree VIF:  inf\n",
      "schooling_unknown VIF:  inf\n",
      "contact_cellular VIF:  inf\n",
      "contact_telephone VIF:  inf\n",
      "month_dec VIF:  inf\n",
      "month_jun VIF:  inf\n",
      "month_sep VIF:  inf\n",
      "day_of_week_fri VIF:  inf\n",
      "day_of_week_mon VIF:  inf\n",
      "day_of_week_thu VIF:  inf\n",
      "day_of_week_tue VIF:  inf\n",
      "day_of_week_wed VIF:  inf\n",
      "poutcome_failure VIF:  inf\n",
      "poutcome_nonexistent VIF:  inf\n",
      "poutcome_success VIF:  inf\n"
     ]
    }
   ],
   "source": [
    "def vif_cal(input_data, dependent_col):\n",
    "    import statsmodels.formula.api as sm\n",
    "    x_vars = input_data.drop([dependent_col],axis=1)\n",
    "    xvar_names = x_vars.columns\n",
    "    for i in range(0,len(xvar_names)):\n",
    "        y = x_vars[xvar_names[i]]\n",
    "        x = x_vars[xvar_names.drop(xvar_names[i])]\n",
    "        rsq = sm.ols(\"y~x\",x_vars).fit().rsquared\n",
    "        vif = round(1/(1-rsq),2)\n",
    "        print(xvar_names[i], \"VIF: \", vif)\n",
    "        \n",
    "vif_cal(marketing_train,'responded')"
   ]
  },
  {
   "cell_type": "code",
   "execution_count": 584,
   "metadata": {},
   "outputs": [],
   "source": [
    "# Avoiding the Dummy Variable Trap\n",
    "marketing_train = marketing_train.drop(['profession_blue-collar'],1)\n",
    "marketing_train = marketing_train.drop(['poutcome_success'],1)\n",
    "marketing_train = marketing_train.drop(['month_jun'],1)\n",
    "marketing_train = marketing_train.drop(['poutcome_nonexistent'],1)\n",
    "marketing_train = marketing_train.drop(['marital_divorced'],1)\n",
    "marketing_train = marketing_train.drop(['contact_cellular'],1)\n",
    "marketing_train = marketing_train.drop(['pmonths'],1)\n",
    "marketing_train = marketing_train.drop(['euribor3m'],1)\n",
    "marketing_train = marketing_train.drop(['nr.employed'],1)\n",
    "marketing_train = marketing_train.drop(['day_of_week_thu'],1)\n",
    "marketing_train = marketing_train.drop(['schooling_unknown'],1)\n",
    "marketing_train = marketing_train.drop(['schooling_high.school'],1)\n",
    "marketing_train = marketing_train.drop(['previous'],1)"
   ]
  },
  {
   "cell_type": "code",
   "execution_count": 585,
   "metadata": {},
   "outputs": [
    {
     "name": "stdout",
     "output_type": "stream",
     "text": [
      "custAge VIF:  1.4\n",
      "housing VIF:  1.01\n",
      "loan VIF:  1.01\n",
      "campaign VIF:  1.04\n",
      "pdays VIF:  1.81\n",
      "emp.var.rate VIF:  4.39\n",
      "cons.price.idx VIF:  3.88\n",
      "cons.conf.idx VIF:  1.58\n",
      "pastEmail VIF:  2.19\n",
      "profession_admin. VIF:  1.57\n",
      "profession_retired VIF:  1.25\n",
      "profession_student VIF:  1.1\n",
      "marital_married VIF:  2.54\n",
      "marital_single VIF:  2.8\n",
      "schooling_university.degree VIF:  1.57\n",
      "contact_telephone VIF:  3.13\n",
      "month_dec VIF:  1.36\n",
      "month_sep VIF:  2.66\n",
      "day_of_week_fri VIF:  1.54\n",
      "day_of_week_mon VIF:  1.72\n",
      "day_of_week_tue VIF:  1.57\n",
      "day_of_week_wed VIF:  1.54\n",
      "poutcome_failure VIF:  1.83\n"
     ]
    }
   ],
   "source": [
    "vif_cal(marketing_train,'responded')"
   ]
  },
  {
   "cell_type": "code",
   "execution_count": 586,
   "metadata": {},
   "outputs": [],
   "source": [
    "X = marketing_train.drop('responded',axis=1)\n",
    "X=np.array(X)\n",
    "y = marketing_train['responded']"
   ]
  },
  {
   "cell_type": "markdown",
   "metadata": {},
   "source": [
    "**Imbalanced Dataset**,\n",
    "****K-Fold Cross Validation****"
   ]
  },
  {
   "cell_type": "markdown",
   "metadata": {},
   "source": [
    "**10-Fold cross validation**"
   ]
  },
  {
   "cell_type": "code",
   "execution_count": 587,
   "metadata": {
    "collapsed": true
   },
   "outputs": [],
   "source": [
    "kf = RepeatedKFold(n_splits=10, n_repeats=10, random_state=None) "
   ]
  },
  {
   "cell_type": "code",
   "execution_count": 588,
   "metadata": {
    "collapsed": true
   },
   "outputs": [],
   "source": [
    "for train_index, test_index in  kf.split(X):\n",
    "    X_train, X_test = X[train_index], X[test_index]\n",
    "    y_train, y_test = y[train_index], y[test_index]"
   ]
  },
  {
   "cell_type": "markdown",
   "metadata": {},
   "source": [
    "**Applying StandardScalar**"
   ]
  },
  {
   "cell_type": "code",
   "execution_count": 589,
   "metadata": {},
   "outputs": [],
   "source": [
    "from sklearn.preprocessing import StandardScaler\n",
    "scale = StandardScaler()\n",
    "X_train_scale = scale.fit_transform(X_train)\n",
    "X_train = pd.DataFrame(X_train_scale)\n",
    "X_test_scale =scale.fit_transform(X_test)\n",
    "X_test = pd.DataFrame(X_test_scale)"
   ]
  },
  {
   "cell_type": "code",
   "execution_count": 590,
   "metadata": {},
   "outputs": [
    {
     "data": {
      "text/html": [
       "<div>\n",
       "<style>\n",
       "    .dataframe thead tr:only-child th {\n",
       "        text-align: right;\n",
       "    }\n",
       "\n",
       "    .dataframe thead th {\n",
       "        text-align: left;\n",
       "    }\n",
       "\n",
       "    .dataframe tbody tr th {\n",
       "        vertical-align: top;\n",
       "    }\n",
       "</style>\n",
       "<table border=\"1\" class=\"dataframe\">\n",
       "  <thead>\n",
       "    <tr style=\"text-align: right;\">\n",
       "      <th></th>\n",
       "      <th>0</th>\n",
       "      <th>1</th>\n",
       "      <th>2</th>\n",
       "      <th>3</th>\n",
       "      <th>4</th>\n",
       "      <th>5</th>\n",
       "      <th>6</th>\n",
       "      <th>7</th>\n",
       "      <th>8</th>\n",
       "      <th>9</th>\n",
       "      <th>...</th>\n",
       "      <th>13</th>\n",
       "      <th>14</th>\n",
       "      <th>15</th>\n",
       "      <th>16</th>\n",
       "      <th>17</th>\n",
       "      <th>18</th>\n",
       "      <th>19</th>\n",
       "      <th>20</th>\n",
       "      <th>21</th>\n",
       "      <th>22</th>\n",
       "    </tr>\n",
       "  </thead>\n",
       "  <tbody>\n",
       "    <tr>\n",
       "      <th>0</th>\n",
       "      <td>1.679830</td>\n",
       "      <td>-1.041783</td>\n",
       "      <td>-0.427477</td>\n",
       "      <td>-0.567379</td>\n",
       "      <td>0.199327</td>\n",
       "      <td>-0.096017</td>\n",
       "      <td>-0.637395</td>\n",
       "      <td>-0.311475</td>\n",
       "      <td>-0.290227</td>\n",
       "      <td>1.343049</td>\n",
       "      <td>...</td>\n",
       "      <td>1.581471</td>\n",
       "      <td>1.481851</td>\n",
       "      <td>-0.757755</td>\n",
       "      <td>2.655081</td>\n",
       "      <td>-0.699649</td>\n",
       "      <td>-0.459664</td>\n",
       "      <td>1.670771</td>\n",
       "      <td>-0.472527</td>\n",
       "      <td>-0.460381</td>\n",
       "      <td>-0.345877</td>\n",
       "    </tr>\n",
       "    <tr>\n",
       "      <th>1</th>\n",
       "      <td>-0.164124</td>\n",
       "      <td>-1.041783</td>\n",
       "      <td>-0.427477</td>\n",
       "      <td>-0.567379</td>\n",
       "      <td>0.199327</td>\n",
       "      <td>0.860566</td>\n",
       "      <td>0.604635</td>\n",
       "      <td>-0.461917</td>\n",
       "      <td>-0.290227</td>\n",
       "      <td>-0.744574</td>\n",
       "      <td>...</td>\n",
       "      <td>-0.632323</td>\n",
       "      <td>-0.674832</td>\n",
       "      <td>-0.757755</td>\n",
       "      <td>-0.376636</td>\n",
       "      <td>1.429288</td>\n",
       "      <td>-0.459664</td>\n",
       "      <td>1.670771</td>\n",
       "      <td>-0.472527</td>\n",
       "      <td>-0.460381</td>\n",
       "      <td>-0.345877</td>\n",
       "    </tr>\n",
       "    <tr>\n",
       "      <th>2</th>\n",
       "      <td>0.269747</td>\n",
       "      <td>-1.041783</td>\n",
       "      <td>-0.427477</td>\n",
       "      <td>-0.567379</td>\n",
       "      <td>0.199327</td>\n",
       "      <td>0.669249</td>\n",
       "      <td>0.736104</td>\n",
       "      <td>0.892065</td>\n",
       "      <td>-0.290227</td>\n",
       "      <td>-0.744574</td>\n",
       "      <td>...</td>\n",
       "      <td>-0.632323</td>\n",
       "      <td>-0.674832</td>\n",
       "      <td>1.319688</td>\n",
       "      <td>-0.376636</td>\n",
       "      <td>-0.699649</td>\n",
       "      <td>-0.459664</td>\n",
       "      <td>1.670771</td>\n",
       "      <td>-0.472527</td>\n",
       "      <td>-0.460381</td>\n",
       "      <td>-0.345877</td>\n",
       "    </tr>\n",
       "    <tr>\n",
       "      <th>3</th>\n",
       "      <td>1.679830</td>\n",
       "      <td>0.959892</td>\n",
       "      <td>2.339307</td>\n",
       "      <td>-0.194730</td>\n",
       "      <td>0.199327</td>\n",
       "      <td>0.860566</td>\n",
       "      <td>0.604635</td>\n",
       "      <td>-0.461917</td>\n",
       "      <td>-0.290227</td>\n",
       "      <td>1.343049</td>\n",
       "      <td>...</td>\n",
       "      <td>-0.632323</td>\n",
       "      <td>1.481851</td>\n",
       "      <td>-0.757755</td>\n",
       "      <td>-0.376636</td>\n",
       "      <td>1.429288</td>\n",
       "      <td>-0.459664</td>\n",
       "      <td>-0.598526</td>\n",
       "      <td>-0.472527</td>\n",
       "      <td>2.172114</td>\n",
       "      <td>-0.345877</td>\n",
       "    </tr>\n",
       "    <tr>\n",
       "      <th>4</th>\n",
       "      <td>-0.164124</td>\n",
       "      <td>0.959892</td>\n",
       "      <td>-0.427477</td>\n",
       "      <td>0.923220</td>\n",
       "      <td>0.199327</td>\n",
       "      <td>-1.180143</td>\n",
       "      <td>-1.168458</td>\n",
       "      <td>-1.214130</td>\n",
       "      <td>0.520781</td>\n",
       "      <td>1.343049</td>\n",
       "      <td>...</td>\n",
       "      <td>-0.632323</td>\n",
       "      <td>1.481851</td>\n",
       "      <td>-0.757755</td>\n",
       "      <td>-0.376636</td>\n",
       "      <td>-0.699649</td>\n",
       "      <td>-0.459664</td>\n",
       "      <td>-0.598526</td>\n",
       "      <td>2.116283</td>\n",
       "      <td>-0.460381</td>\n",
       "      <td>2.891202</td>\n",
       "    </tr>\n",
       "  </tbody>\n",
       "</table>\n",
       "<p>5 rows × 23 columns</p>\n",
       "</div>"
      ],
      "text/plain": [
       "         0         1         2         3         4         5         6   \\\n",
       "0  1.679830 -1.041783 -0.427477 -0.567379  0.199327 -0.096017 -0.637395   \n",
       "1 -0.164124 -1.041783 -0.427477 -0.567379  0.199327  0.860566  0.604635   \n",
       "2  0.269747 -1.041783 -0.427477 -0.567379  0.199327  0.669249  0.736104   \n",
       "3  1.679830  0.959892  2.339307 -0.194730  0.199327  0.860566  0.604635   \n",
       "4 -0.164124  0.959892 -0.427477  0.923220  0.199327 -1.180143 -1.168458   \n",
       "\n",
       "         7         8         9     ...           13        14        15  \\\n",
       "0 -0.311475 -0.290227  1.343049    ...     1.581471  1.481851 -0.757755   \n",
       "1 -0.461917 -0.290227 -0.744574    ...    -0.632323 -0.674832 -0.757755   \n",
       "2  0.892065 -0.290227 -0.744574    ...    -0.632323 -0.674832  1.319688   \n",
       "3 -0.461917 -0.290227  1.343049    ...    -0.632323  1.481851 -0.757755   \n",
       "4 -1.214130  0.520781  1.343049    ...    -0.632323  1.481851 -0.757755   \n",
       "\n",
       "         16        17        18        19        20        21        22  \n",
       "0  2.655081 -0.699649 -0.459664  1.670771 -0.472527 -0.460381 -0.345877  \n",
       "1 -0.376636  1.429288 -0.459664  1.670771 -0.472527 -0.460381 -0.345877  \n",
       "2 -0.376636 -0.699649 -0.459664  1.670771 -0.472527 -0.460381 -0.345877  \n",
       "3 -0.376636  1.429288 -0.459664 -0.598526 -0.472527  2.172114 -0.345877  \n",
       "4 -0.376636 -0.699649 -0.459664 -0.598526  2.116283 -0.460381  2.891202  \n",
       "\n",
       "[5 rows x 23 columns]"
      ]
     },
     "execution_count": 590,
     "metadata": {},
     "output_type": "execute_result"
    }
   ],
   "source": [
    "X_train.head()"
   ]
  },
  {
   "cell_type": "code",
   "execution_count": 316,
   "metadata": {
    "collapsed": true
   },
   "outputs": [],
   "source": [
    "#Applying PCA\n",
    "#from sklearn.decomposition import PCA\n",
    "#pca=PCA()\n",
    "#X_train=pca.fit_transform(X_train)"
   ]
  },
  {
   "cell_type": "code",
   "execution_count": 317,
   "metadata": {},
   "outputs": [
    {
     "data": {
      "text/plain": [
       "array([0.12752921, 0.22169254, 0.29476343, 0.35895667, 0.42120141,\n",
       "       0.47928334, 0.53226119, 0.58411533, 0.6344186 , 0.68088729,\n",
       "       0.72610798, 0.76738678, 0.80734317, 0.84455354, 0.88133735,\n",
       "       0.91454443, 0.93857445, 0.95594253, 0.96707922, 0.97804645,\n",
       "       0.98733671, 0.99443926, 1.        ])"
      ]
     },
     "execution_count": 317,
     "metadata": {},
     "output_type": "execute_result"
    }
   ],
   "source": [
    "#np.cumsum(pca.explained_variance_ratio_)"
   ]
  },
  {
   "cell_type": "markdown",
   "metadata": {},
   "source": [
    "**Building the Model**"
   ]
  },
  {
   "cell_type": "markdown",
   "metadata": {},
   "source": [
    "**Decision Tree Model**"
   ]
  },
  {
   "cell_type": "code",
   "execution_count": 591,
   "metadata": {},
   "outputs": [
    {
     "data": {
      "text/plain": [
       "DecisionTreeClassifier(class_weight=None, criterion='gini', max_depth=None,\n",
       "            max_features=None, max_leaf_nodes=None,\n",
       "            min_impurity_decrease=0.0, min_impurity_split=None,\n",
       "            min_samples_leaf=1, min_samples_split=2,\n",
       "            min_weight_fraction_leaf=0.0, presort=False, random_state=None,\n",
       "            splitter='best')"
      ]
     },
     "execution_count": 591,
     "metadata": {},
     "output_type": "execute_result"
    }
   ],
   "source": [
    "from sklearn.tree import DecisionTreeClassifier\n",
    "dtree = DecisionTreeClassifier()\n",
    "dtree.fit(X_train,y_train)"
   ]
  },
  {
   "cell_type": "markdown",
   "metadata": {},
   "source": [
    "**Prediction**"
   ]
  },
  {
   "cell_type": "code",
   "execution_count": 592,
   "metadata": {},
   "outputs": [
    {
     "name": "stdout",
     "output_type": "stream",
     "text": [
      "             precision    recall  f1-score   support\n",
      "\n",
      "         no       0.90      0.90      0.90       649\n",
      "        yes       0.31      0.30      0.31        92\n",
      "\n",
      "avg / total       0.83      0.83      0.83       741\n",
      "\n"
     ]
    }
   ],
   "source": [
    "predictions = dtree.predict(X_test)\n",
    "print(classification_report(y_test,predictions))     "
   ]
  },
  {
   "cell_type": "code",
   "execution_count": 593,
   "metadata": {},
   "outputs": [
    {
     "name": "stdout",
     "output_type": "stream",
     "text": [
      "[[586  63]\n",
      " [ 64  28]]\n"
     ]
    },
    {
     "data": {
      "text/plain": [
       "0.8286099865047234"
      ]
     },
     "execution_count": 593,
     "metadata": {},
     "output_type": "execute_result"
    }
   ],
   "source": [
    "print(confusion_matrix(y_test,predictions))\n",
    "from sklearn.metrics import accuracy_score\n",
    "accuracy_score(y_test, predictions)"
   ]
  },
  {
   "cell_type": "code",
   "execution_count": 594,
   "metadata": {
    "collapsed": true
   },
   "outputs": [],
   "source": [
    "#n-estimator =900\n",
    "#F-score of \"yes\"-0.31\n",
    "#n-estimator =600\n",
    "#F-score of \"yes\"-0.35"
   ]
  },
  {
   "cell_type": "markdown",
   "metadata": {},
   "source": [
    "**Random Forest model**"
   ]
  },
  {
   "cell_type": "code",
   "execution_count": 595,
   "metadata": {
    "collapsed": true
   },
   "outputs": [],
   "source": [
    "from sklearn.ensemble import RandomForestClassifier\n",
    "rfc = RandomForestClassifier(n_estimators=600)"
   ]
  },
  {
   "cell_type": "code",
   "execution_count": 596,
   "metadata": {},
   "outputs": [
    {
     "data": {
      "text/plain": [
       "RandomForestClassifier(bootstrap=True, class_weight=None, criterion='gini',\n",
       "            max_depth=None, max_features='auto', max_leaf_nodes=None,\n",
       "            min_impurity_decrease=0.0, min_impurity_split=None,\n",
       "            min_samples_leaf=1, min_samples_split=2,\n",
       "            min_weight_fraction_leaf=0.0, n_estimators=600, n_jobs=1,\n",
       "            oob_score=False, random_state=None, verbose=0,\n",
       "            warm_start=False)"
      ]
     },
     "execution_count": 596,
     "metadata": {},
     "output_type": "execute_result"
    }
   ],
   "source": [
    "#Fit the model\n",
    "rfc.fit(X_train,y_train)"
   ]
  },
  {
   "cell_type": "code",
   "execution_count": 597,
   "metadata": {},
   "outputs": [
    {
     "name": "stdout",
     "output_type": "stream",
     "text": [
      "             precision    recall  f1-score   support\n",
      "\n",
      "         no       0.90      0.97      0.93       649\n",
      "        yes       0.55      0.26      0.35        92\n",
      "\n",
      "avg / total       0.86      0.88      0.86       741\n",
      "\n"
     ]
    }
   ],
   "source": [
    "predictions = rfc.predict(X_test)\n",
    "from sklearn.metrics import classification_report,confusion_matrix\n",
    "print(classification_report(y_test,predictions))"
   ]
  },
  {
   "cell_type": "code",
   "execution_count": 598,
   "metadata": {},
   "outputs": [
    {
     "name": "stdout",
     "output_type": "stream",
     "text": [
      "[[629  20]\n",
      " [ 68  24]]\n"
     ]
    },
    {
     "data": {
      "text/plain": [
       "0.8812415654520918"
      ]
     },
     "execution_count": 598,
     "metadata": {},
     "output_type": "execute_result"
    }
   ],
   "source": [
    "print(confusion_matrix(y_test,predictions))\n",
    "from sklearn.metrics import accuracy_score\n",
    "accuracy_score(y_test, predictions)"
   ]
  },
  {
   "cell_type": "markdown",
   "metadata": {},
   "source": [
    "**Logistic regression model**"
   ]
  },
  {
   "cell_type": "code",
   "execution_count": 599,
   "metadata": {},
   "outputs": [
    {
     "data": {
      "text/plain": [
       "LogisticRegression(C=1.0, class_weight=None, dual=False, fit_intercept=True,\n",
       "          intercept_scaling=1, max_iter=100, multi_class='ovr', n_jobs=1,\n",
       "          penalty='l2', random_state=None, solver='liblinear', tol=0.0001,\n",
       "          verbose=0, warm_start=False)"
      ]
     },
     "execution_count": 599,
     "metadata": {},
     "output_type": "execute_result"
    }
   ],
   "source": [
    "#Fit the model\n",
    "from sklearn.linear_model import LogisticRegression\n",
    "logmodel = LogisticRegression()\n",
    "logmodel.fit(X_train,y_train)"
   ]
  },
  {
   "cell_type": "code",
   "execution_count": 600,
   "metadata": {},
   "outputs": [
    {
     "name": "stdout",
     "output_type": "stream",
     "text": [
      "             precision    recall  f1-score   support\n",
      "\n",
      "         no       0.90      0.98      0.94       649\n",
      "        yes       0.70      0.25      0.37        92\n",
      "\n",
      "avg / total       0.88      0.89      0.87       741\n",
      "\n"
     ]
    }
   ],
   "source": [
    "#prediction\n",
    "predictions = logmodel.predict(X_test)\n",
    "from sklearn.metrics import classification_report\n",
    "print(classification_report(y_test,predictions))"
   ]
  },
  {
   "cell_type": "code",
   "execution_count": 601,
   "metadata": {},
   "outputs": [
    {
     "name": "stdout",
     "output_type": "stream",
     "text": [
      "[[639  10]\n",
      " [ 69  23]]\n"
     ]
    }
   ],
   "source": [
    "accuracy_score(y_test, predictions)\n",
    "print(confusion_matrix(y_test,predictions))"
   ]
  },
  {
   "cell_type": "markdown",
   "metadata": {},
   "source": [
    "***Naive Bayes Model ***\n"
   ]
  },
  {
   "cell_type": "code",
   "execution_count": 602,
   "metadata": {},
   "outputs": [
    {
     "data": {
      "text/plain": [
       "GaussianNB(priors=None)"
      ]
     },
     "execution_count": 602,
     "metadata": {},
     "output_type": "execute_result"
    }
   ],
   "source": [
    "from sklearn.naive_bayes import GaussianNB\n",
    "classifier=GaussianNB()\n",
    "classifier.fit(X_train,y_train)"
   ]
  },
  {
   "cell_type": "code",
   "execution_count": 603,
   "metadata": {},
   "outputs": [
    {
     "name": "stdout",
     "output_type": "stream",
     "text": [
      "             precision    recall  f1-score   support\n",
      "\n",
      "         no       0.90      0.98      0.94       649\n",
      "        yes       0.70      0.25      0.37        92\n",
      "\n",
      "avg / total       0.88      0.89      0.87       741\n",
      "\n"
     ]
    }
   ],
   "source": [
    "#Prediction\n",
    "y_pred=classifier.predict(X_test)\n",
    "from sklearn.metrics import classification_report,confusion_matrix\n",
    "print(classification_report(y_test,predictions))"
   ]
  },
  {
   "cell_type": "code",
   "execution_count": 604,
   "metadata": {},
   "outputs": [
    {
     "name": "stdout",
     "output_type": "stream",
     "text": [
      "[[639  10]\n",
      " [ 69  23]]\n"
     ]
    }
   ],
   "source": [
    "accuracy_score(y_test, predictions)\n",
    "print(confusion_matrix(y_test,predictions))"
   ]
  },
  {
   "cell_type": "markdown",
   "metadata": {},
   "source": [
    "**SVM Model**"
   ]
  },
  {
   "cell_type": "code",
   "execution_count": 605,
   "metadata": {},
   "outputs": [
    {
     "data": {
      "text/plain": [
       "SVC(C=1.0, cache_size=200, class_weight=None, coef0=0.0,\n",
       "  decision_function_shape='ovr', degree=3, gamma='auto', kernel='rbf',\n",
       "  max_iter=-1, probability=False, random_state=None, shrinking=True,\n",
       "  tol=0.001, verbose=False)"
      ]
     },
     "execution_count": 605,
     "metadata": {},
     "output_type": "execute_result"
    }
   ],
   "source": [
    "from sklearn.svm import SVC\n",
    "svc_model = SVC()\n",
    "svc_model.fit(X_train,y_train)"
   ]
  },
  {
   "cell_type": "markdown",
   "metadata": {},
   "source": [
    "**Model Evaluation**"
   ]
  },
  {
   "cell_type": "code",
   "execution_count": 606,
   "metadata": {},
   "outputs": [
    {
     "name": "stdout",
     "output_type": "stream",
     "text": [
      "             precision    recall  f1-score   support\n",
      "\n",
      "         no       0.90      0.98      0.94       649\n",
      "        yes       0.67      0.22      0.33        92\n",
      "\n",
      "avg / total       0.87      0.89      0.86       741\n",
      "\n"
     ]
    }
   ],
   "source": [
    "predictions = svc_model.predict(X_test)\n",
    "from sklearn.metrics import classification_report,confusion_matrix\n",
    "print(classification_report(y_test,predictions))"
   ]
  }
 ],
 "metadata": {
  "kernelspec": {
   "display_name": "Python 3",
   "language": "python",
   "name": "python3"
  },
  "language_info": {
   "codemirror_mode": {
    "name": "ipython",
    "version": 3
   },
   "file_extension": ".py",
   "mimetype": "text/x-python",
   "name": "python",
   "nbconvert_exporter": "python",
   "pygments_lexer": "ipython3",
   "version": "3.6.5"
  }
 },
 "nbformat": 4,
 "nbformat_minor": 2
}
